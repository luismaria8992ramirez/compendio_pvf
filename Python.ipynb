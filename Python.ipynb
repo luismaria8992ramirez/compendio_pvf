{
 "cells": [
  {
   "cell_type": "markdown",
   "metadata": {},
   "source": [
    "# PYTHON"
   ]
  },
  {
   "cell_type": "markdown",
   "metadata": {},
   "source": [
    "### Introduccion"
   ]
  },
  {
   "cell_type": "markdown",
   "metadata": {},
   "source": [
    "## Condicionales"
   ]
  },
  {
   "cell_type": "code",
   "execution_count": 46,
   "metadata": {},
   "outputs": [
    {
     "name": "stdout",
     "output_type": "stream",
     "text": [
      "introduzca un numero1\n",
      "El numero ingresado es 1\n"
     ]
    }
   ],
   "source": [
    "a=int(input('introduzca un numero'))\n",
    "if a ==1:\n",
    "    print('El numero ingresado es 1')\n",
    "elif a==2:\n",
    "    print('El numero ingresado es 2')\n",
    "else:\n",
    "    print('Usted ingreso un numero distinto')"
   ]
  },
  {
   "cell_type": "code",
   "execution_count": 47,
   "metadata": {},
   "outputs": [
    {
     "name": "stdout",
     "output_type": "stream",
     "text": [
      "palabra\n",
      "La frase completa\n",
      "Este es un párrafo de varias  \n",
      "lineas hechas como ejemplo para el curso de simulación de procesos financieros\n"
     ]
    }
   ],
   "source": [
    "Una_palabra = 'palabra'                  # este es el comentario de esta línea\n",
    "Una_frase = \"La frase completa\"\n",
    "Un_párrafo = \"\"\"Este es un párrafo de varias  \n",
    "lineas hechas como ejemplo para el curso de simulación de procesos financieros\"\"\"\n",
    "print(Una_palabra)\n",
    "print(Una_frase)\n",
    "print(Un_párrafo)"
   ]
  },
  {
   "cell_type": "markdown",
   "metadata": {},
   "source": [
    "## Tipos de variables en python"
   ]
  },
  {
   "cell_type": "code",
   "execution_count": 48,
   "metadata": {},
   "outputs": [],
   "source": [
    "entero=1\n",
    "flotante=5.5\n",
    "texto='a'"
   ]
  },
  {
   "cell_type": "code",
   "execution_count": 49,
   "metadata": {},
   "outputs": [],
   "source": [
    "d =\"Hola grupo estamos probando\"\n",
    "a=d[2:]#empieza a partir del segundo elemento de una caena de caracteres\n",
    "b=d[:-2]#todos los elementos excepto los ultimos dos elementos de una cadena caracteres\n",
    "c=d[-3:]#Ultimos tres elementos de una cadena de caracteres"
   ]
  },
  {
   "cell_type": "markdown",
   "metadata": {},
   "source": [
    "## Listas"
   ]
  },
  {
   "cell_type": "markdown",
   "metadata": {},
   "source": [
    "Las listas son herramientas que almacenan tipos de datos separados por comas (\",\") y encerrados dentro de un corchete ([]). Los items dentro de una lista pueden ser de diferente tipo. De igual forma que los textos también se puede acceder a una posición en particular de las listas usando ([],[:]), duplicar la lista usando ('*') y el operador ('+') para la concatenación de listas"
   ]
  },
  {
   "cell_type": "code",
   "execution_count": 50,
   "metadata": {},
   "outputs": [],
   "source": [
    "lista1=[0,1,2,3]\n",
    "#lista[i]: Devuelve el elemento que está en la posición i de la lista.\n",
    "#lista.pop(i): Devuelve el elemento en la posición i de una lista y luego lo borra.\n",
    "#lista.append(elemento): Añade elemento al final de la lista.\n",
    "#lista.insert(i, elemento): Inserta elemento en la posición i.\n",
    "#lista.extend(lista2): Fusiona lista con lista2.\n",
    "#lista.remove(elemento): Elimina la primera vez que aparece elemento."
   ]
  },
  {
   "cell_type": "markdown",
   "metadata": {},
   "source": [
    "## Tuplas"
   ]
  },
  {
   "cell_type": "markdown",
   "metadata": {},
   "source": [
    "Las tuplas son otras secuencia de datos simulares a las listas. Una tupla consiste de número de valores separados por comas (',') y deben de ser escritas dentro de paréntesis ('()'). A diferencia de las listas, las tuplas no pueden ser actualizadas (modificadas). Las tuplas entonces se pueden considerar como un objeto únicamente de lectura. Las mismas funciones que cumplen las listas estan disponibles para las tuplas (*,+,[])."
   ]
  },
  {
   "cell_type": "code",
   "execution_count": 51,
   "metadata": {},
   "outputs": [
    {
     "name": "stdout",
     "output_type": "stream",
     "text": [
      "('hola grupo', 'finanzas', 3, 5.5, 64, [1, 2])\n",
      "hola grupo\n",
      "(3, 5.5, 64, [1, 2])\n",
      "('hola grupo', 'finanzas', 3, 5.5, 64, [1, 2], 'hola grupo', 'finanzas', 3, 5.5, 64, [1, 2])\n",
      "('hola grupo', 'finanzas', 3, 5.5, 64, [1, 2], 1e-05, 'carlos')\n"
     ]
    }
   ],
   "source": [
    "tupla = (\"hola grupo\", 'finanzas', 3,5.5,0x40,[1,2])\n",
    "print(tupla)\n",
    "print(tupla[0])#imprime posicion 0 de una tupla\n",
    "print(tupla[2:])#imprime a partir de la posicion 2 hasta el ultimo elemento\n",
    "a=print(tupla*2) #multiplica la tula *2\n",
    "print(tupla+(1e-5,'carlos'))#agrega un elemento o mas a una tupla\n"
   ]
  },
  {
   "cell_type": "markdown",
   "metadata": {},
   "source": [
    "## Diccionarios"
   ]
  },
  {
   "cell_type": "markdown",
   "metadata": {},
   "source": [
    "Diccionarios Como sucede con un diccionario convencional, un diccionario en Python es una palabra que tiene asociado algo. Al contrario de lo que sucedía en las listas, los diccionarios no tienen orden.\n",
    "Se crean poniendo sus elementos entre llaves {“a”:”Alicante”, “b”:”Barcelona”,>>>}. Se denominan keys a las “palabras” y values a las “definiciones”. Lógicamente, no puede haber dos keys iguales, aunque sí dos values iguales."
   ]
  },
  {
   "cell_type": "code",
   "execution_count": 52,
   "metadata": {},
   "outputs": [
    {
     "name": "stdout",
     "output_type": "stream",
     "text": [
      "Fernando Alonso\n"
     ]
    }
   ],
   "source": [
    "diccionario={'Piloto 1':\"Fernando Alonso\", 'Piloto 2':'Kimi Raikkonen', 'Piloto 3':'Felipe Massa'}\n",
    "print(diccionario.get('Piloto 1'))"
   ]
  },
  {
   "cell_type": "markdown",
   "metadata": {},
   "source": [
    "Es similar a las listas, con el matiz de que dado que los diccionarios no tienen orden, no tienen funciones en las que se tenga en cuenta la posición.\n",
    "\n",
    "diccionario.get(‘key’): Devuelve el valor que corresponde con la key introducida.\n",
    "diccionario.pop(‘key’): Devuelve el valor que corresponde con la key introducida, y luego borra la key y el valor.\n",
    "“key” in diccionario: Devuelve verdadero (True) o falso (False) si la key (no los valores) existe en el diccionario.\n",
    "“definicion” in diccionario.values(): Devuelve verdadero (True) o falso (False) si definición existe en el diccionario (no como key).\n",
    "diccionario.keys(): Devuelve todas las palabras keys del diccionario.\n",
    "diccionario.values(): Devuelve todos los values de todas las palabras keys del diccionario.\n",
    "Poniendo todo esto en un ejemplo:"
   ]
  },
  {
   "cell_type": "markdown",
   "metadata": {},
   "source": [
    "## Conjuntos"
   ]
  },
  {
   "cell_type": "markdown",
   "metadata": {},
   "source": [
    "Un conjunto es una colección desordenada de elementos distintos.\n",
    "\n",
    "Bucles: la iteración sobre un conjunto tiene la misma sintaxis que iterar sobre una lista; sin embargo, como los conjuntos no están ordenados, no puede hacer suposiciones sobre el orden en que visita los elementos del conjunto:"
   ]
  },
  {
   "cell_type": "code",
   "execution_count": 53,
   "metadata": {},
   "outputs": [
    {
     "data": {
      "text/plain": [
       "set"
      ]
     },
     "execution_count": 53,
     "metadata": {},
     "output_type": "execute_result"
    }
   ],
   "source": [
    "from math import sqrt\n",
    "nums={int(sqrt(i))for i in range(65)}\n",
    "type(nums)"
   ]
  },
  {
   "cell_type": "markdown",
   "metadata": {},
   "source": [
    "## Operadores básicos"
   ]
  },
  {
   "cell_type": "code",
   "execution_count": 54,
   "metadata": {},
   "outputs": [],
   "source": [
    "#Operadores aritméticos\n",
    "#Operadores de comparación (relaciones)\n",
    "#Operadores de asignación\n",
    "#Operadores lógicos\n",
    "#Operadores bit a bit\n",
    "#Operadores de miembros (membership)\n",
    "#Operadores de indentidad"
   ]
  },
  {
   "cell_type": "markdown",
   "metadata": {},
   "source": [
    "Aritmeticos"
   ]
  },
  {
   "cell_type": "code",
   "execution_count": 55,
   "metadata": {},
   "outputs": [
    {
     "data": {
      "text/plain": [
       "1"
      ]
     },
     "execution_count": 55,
     "metadata": {},
     "output_type": "execute_result"
    }
   ],
   "source": [
    "9%2"
   ]
  },
  {
   "cell_type": "markdown",
   "metadata": {},
   "source": [
    "Operadores de comparación "
   ]
  },
  {
   "cell_type": "code",
   "execution_count": 56,
   "metadata": {},
   "outputs": [
    {
     "name": "stdout",
     "output_type": "stream",
     "text": [
      "False\n"
     ]
    }
   ],
   "source": [
    "a=True\n",
    "b=False\n",
    "print(9<8)"
   ]
  },
  {
   "cell_type": "markdown",
   "metadata": {},
   "source": [
    "Operadores de asignación"
   ]
  },
  {
   "cell_type": "code",
   "execution_count": 57,
   "metadata": {},
   "outputs": [
    {
     "name": "stdout",
     "output_type": "stream",
     "text": [
      "1\n"
     ]
    }
   ],
   "source": [
    "v=1\n",
    "v**=10\n",
    "print(v)"
   ]
  },
  {
   "cell_type": "markdown",
   "metadata": {},
   "source": [
    "Operadores de pertenencia en python"
   ]
  },
  {
   "cell_type": "code",
   "execution_count": 58,
   "metadata": {},
   "outputs": [
    {
     "name": "stdout",
     "output_type": "stream",
     "text": [
      "True\n",
      "True\n"
     ]
    }
   ],
   "source": [
    "h = (1,'a',[1,2])\n",
    "y = [1,2]\n",
    "print(y in h)\n",
    "print(not h in y)"
   ]
  },
  {
   "cell_type": "markdown",
   "metadata": {},
   "source": [
    "Operdores logicos"
   ]
  },
  {
   "cell_type": "code",
   "execution_count": 59,
   "metadata": {},
   "outputs": [
    {
     "name": "stdout",
     "output_type": "stream",
     "text": [
      "False False True\n"
     ]
    }
   ],
   "source": [
    "c = not(True and True)\n",
    "a = False and True\n",
    "e = True or False\n",
    "print(c,a,e)"
   ]
  },
  {
   "cell_type": "markdown",
   "metadata": {},
   "source": [
    "Operadores de indentidad de python"
   ]
  },
  {
   "cell_type": "code",
   "execution_count": 60,
   "metadata": {},
   "outputs": [
    {
     "name": "stdout",
     "output_type": "stream",
     "text": [
      "True\n"
     ]
    }
   ],
   "source": [
    "b = 4\n",
    "d = [4,5,6,7]\n",
    "g = 4\n",
    "# print(b is d)\n",
    "# print(b in d)\n",
    "# print(b is g)\n",
    "print(id(b) == id(g))"
   ]
  },
  {
   "cell_type": "markdown",
   "metadata": {},
   "source": [
    "## Ciclos condicionales"
   ]
  },
  {
   "cell_type": "markdown",
   "metadata": {},
   "source": [
    "En todo programa que se precie, llega el momento en el que se llega a una bifuración y que en función de una determinada condición, hay que realizar una serie de cosas u otra.\n",
    "\n",
    "Esto se hace con el comando if (condición principal), con los opcionales elif (condiciones adicionales, se pueden poner tantas como se quiera) y else (si no se ha cumplido ninguna de las anteriores, sólo se puede poner una vez y al final).\n",
    "\n",
    "Las condiciones que se suelen usar con más frecuencia son:\n",
    "\n",
    "a == b$\\longrightarrow$ Indica si a es igual a b\n",
    "a < b\n",
    "a > b\n",
    "not $\\longrightarrow$ NO: niega la condición que le sigue.\n",
    "and $\\longrightarrow$ Y: junta dos condiciones que tienen que cumplirse las dos\n",
    "or  $\\longrightarrow$ O: junta dos condiciones y tienen que cumplirse alguna de las dos."
   ]
  },
  {
   "cell_type": "code",
   "execution_count": 61,
   "metadata": {},
   "outputs": [
    {
     "name": "stdout",
     "output_type": "stream",
     "text": [
      "La condición con 'and' ya es falsa\n"
     ]
    }
   ],
   "source": [
    "a = [1,2,3,4,5,6,55]\n",
    "b = ['a','b','c','d']\n",
    "c = \"alberto cuestas\"\n",
    "d = 5\n",
    "# Ilustración de precedencia \n",
    "# print((5**2 * 2 + 5) / 5);print(5**2 * 2 + 5 / 5);print(d**2+10/10);\n",
    "\n",
    "# Estructura de If en python con muchas condiciones \n",
    "# if a[0]==d:\n",
    "#     print(\"La primera posición de la lista es \",d)\n",
    "# elif a[1]==d:\n",
    "#     print(\"La segunda posición de la lista es \",d)\n",
    "# elif a[2]==d:\n",
    "#     print(\"La tercera posición de la lista es \",d) \n",
    "# elif a[3]==d:\n",
    "#     print(\"La cuarta posición de la lista es \",d)\n",
    "# elif a[4]==d:\n",
    "#     print(\"La quinta posición de la lista es \",d)\n",
    "    \n",
    "# Condiciones múltiples\n",
    "# if ((d**2%5==0) and (d in a)) or ((c[0] in b) and (c[8] in b)):\n",
    "#     print(\"La condiciones 1 o 2 son verdaderas\")\n",
    "    \n",
    "# Uso del else\n",
    "if ((d**2%5==0) and (d in a)) and ((c[0] in b) and (c[7] in b)):\n",
    "    print(\"La dos condiciones son verdaderas\")\n",
    "else:\n",
    "    print(\"La condición con 'and' ya es falsa\")"
   ]
  },
  {
   "cell_type": "markdown",
   "metadata": {},
   "source": [
    "## Bucles en python"
   ]
  },
  {
   "cell_type": "markdown",
   "metadata": {},
   "source": [
    "Todos los comandos y programaciones que realicemos en python se ejecutarán de manera secuencial, es decir primero se ejecuta la primera línea, luego la segunda y asi sucesivamente. En ocasiones necesitamos que cierta parte de nuestro código se ejecute un determindado número de veces, de esta necesidad resultan en python lo siguientes tipos de bucles:\n",
    "\n",
    "Bucles For\n",
    "Bucles while\n",
    "Bucles anidados es decir 'for y while', 'for y for', 'while y while'\n",
    "Un diagrama de flujo de estos dos tipos de bucles se muestra en la imagen de la derecha.\n",
    "\n",
    "### Ciclo while\n",
    "Sintaxis $$\\textbf{while} \\ expresion: \\\\ \\quad instrucciones()$$"
   ]
  },
  {
   "cell_type": "code",
   "execution_count": 62,
   "metadata": {},
   "outputs": [
    {
     "name": "stdout",
     "output_type": "stream",
     "text": [
      "El bucle ha terminado\n"
     ]
    }
   ],
   "source": [
    "contar=0\n",
    "lista=[]\n",
    "while contar<100:\n",
    "    contar+=10\n",
    "    lista.append(contar)\n",
    "else:\n",
    "    print('El bucle ha terminado')"
   ]
  },
  {
   "cell_type": "markdown",
   "metadata": {},
   "source": [
    "### Ciclo for"
   ]
  },
  {
   "cell_type": "code",
   "execution_count": 63,
   "metadata": {},
   "outputs": [
    {
     "data": {
      "text/plain": [
       "[0, 1, 2, 3, 4, 5, 6, 7, 8, 9]"
      ]
     },
     "execution_count": 63,
     "metadata": {},
     "output_type": "execute_result"
    }
   ],
   "source": [
    "lista=[]\n",
    "for i in range (10):\n",
    "    lista.append(i)\n",
    "lista"
   ]
  },
  {
   "cell_type": "markdown",
   "metadata": {},
   "source": [
    "## Funciones"
   ]
  },
  {
   "cell_type": "code",
   "execution_count": 64,
   "metadata": {},
   "outputs": [
    {
     "name": "stdout",
     "output_type": "stream",
     "text": [
      "Hola, Bob\n",
      "HOLAA!!, FRED!\n"
     ]
    }
   ],
   "source": [
    "def hello(name, fuerte=False):\n",
    "    if fuerte:\n",
    "        print('HOLAA!!, %s!' % name.upper())\n",
    "    else:\n",
    "        print('Hola, %s' % name)\n",
    "\n",
    "hello('Bob') # Imprime \"Hola, Bob\"\n",
    "hello('Fred', fuerte=True)"
   ]
  },
  {
   "cell_type": "markdown",
   "metadata": {},
   "source": [
    "## Simulación"
   ]
  },
  {
   "cell_type": "markdown",
   "metadata": {},
   "source": [
    "Es la construcción de modelos informáticos que describen la parte esencial del comportamiento de un sistema de interés, así como diseñar y realizar experimentos con el modelo y extraer conclusiones de sus resultados para apoyar la <font color = red>toma de decisiones.</font>\n",
    "Permite experimentar con sistemas (reales o propuestos) en casos en los que de otra manera esto sería imposible o impráctico."
   ]
  },
  {
   "cell_type": "markdown",
   "metadata": {},
   "source": [
    "$c_i$: variable exógena controlable\n",
    "$n_i$: variable exógena no controlable\n",
    "$e_i$: variable endógena (estado del sistema)\n",
    "$S_i$: variable endógena (salida del sistema)"
   ]
  },
  {
   "cell_type": "markdown",
   "metadata": {},
   "source": [
    "### ¿Qué es un sistema?"
   ]
  },
  {
   "cell_type": "markdown",
   "metadata": {},
   "source": [
    "Colección de objetos, partes, componentes, etc., que interactúan entre si, dentro de una cierta frontera, para producir un patrón particular o comportamiento.\n",
    "Frontera: Es necesaria esta idea para separar al sistema del resto del universo."
   ]
  },
  {
   "cell_type": "markdown",
   "metadata": {},
   "source": [
    "### ¿Qué es un modelo?"
   ]
  },
  {
   "cell_type": "markdown",
   "metadata": {},
   "source": [
    "Es una <font color = red > abstracción </font> de la realidad.\n",
    "Es una <font color = red >representación </font> de la realidad que ayuda a entender cómo funciona.\n",
    "Es una <font color = red >construcción intelectual </font> y descriptiva de una entidad en la cual un observador tiene interés.\n",
    "Supuestos simples son usados para capturar el comportamiento importante.\n",
    "Los modelos puedesn ser: Físicos (replicas) - Abstractos (Modelos matemáticos) imagen.png\n",
    "<font color = red > Modelos mentales </font>: Depende de nuestro punto de vista, suele ser incompletos y no tener un enunciado preciso, no son fácilmente transmisibles. $\\Longrightarrow$ Ideas, conceptualizaciones\n",
    "<font color = red > Modelos Formales </font>: Están basados en reglas, son transmisibles. $\\Longrightarrow$ Planos, diagramas, maquetas."
   ]
  },
  {
   "cell_type": "markdown",
   "metadata": {},
   "source": [
    "## Optimización de código"
   ]
  },
  {
   "cell_type": "code",
   "execution_count": 65,
   "metadata": {},
   "outputs": [],
   "source": [
    "# Librerías a usar en todo el programa\n",
    "import numpy as np\n",
    "import time,math \n",
    "import matplotlib.pyplot as plt"
   ]
  },
  {
   "cell_type": "markdown",
   "metadata": {},
   "source": [
    "### Formas de optimizar el código en las funciones y los ciclos for"
   ]
  },
  {
   "cell_type": "markdown",
   "metadata": {},
   "source": [
    "### Ciclo for tradicional"
   ]
  },
  {
   "cell_type": "code",
   "execution_count": 66,
   "metadata": {},
   "outputs": [
    {
     "name": "stdout",
     "output_type": "stream",
     "text": [
      "['H', 'O', 'L', 'A', ' ', 'Y', 'O', ' ', 'S', 'O', 'Y', ' ', 'J', 'U', 'A', 'N']\n"
     ]
    }
   ],
   "source": [
    "oldlist='Hola yo soy juan'\n",
    "nueva_lista=[]\n",
    "for i in oldlist:\n",
    "    nueva_lista.append(i.upper())\n",
    "print(nueva_lista)"
   ]
  },
  {
   "cell_type": "markdown",
   "metadata": {},
   "source": [
    "### Funciones en variables"
   ]
  },
  {
   "cell_type": "code",
   "execution_count": 67,
   "metadata": {},
   "outputs": [
    {
     "name": "stdout",
     "output_type": "stream",
     "text": [
      "['H', 'O', 'L', 'A', ' ', 'Y', 'O', ' ', 'S', 'O', 'Y', ' ', 'J', 'U', 'A', 'N', 'I', 'T', 'O']\n"
     ]
    }
   ],
   "source": [
    "oldlist='hola yo soy juanito'\n",
    "nueva_lista=[]\n",
    "append=nueva_lista.append\n",
    "upper=str.upper\n",
    "for i in oldlist:\n",
    "    append(upper(i))\n",
    "print(nueva_lista)"
   ]
  },
  {
   "cell_type": "markdown",
   "metadata": {},
   "source": [
    "### Generacion de funciones para utilizar variables locales y hacer más eficiente el ciclo"
   ]
  },
  {
   "cell_type": "code",
   "execution_count": 68,
   "metadata": {},
   "outputs": [
    {
     "name": "stdout",
     "output_type": "stream",
     "text": [
      "['H', 'O', 'L', 'A', ' ', 'Y', 'O', ' ', 'S', 'O', 'Y', ' ', 'J', 'U', 'A', 'N', 'E', 'T', 'E']\n"
     ]
    }
   ],
   "source": [
    "def upper(x):\n",
    "    oldlist='hola yo soy juanete'\n",
    "    nueva_lista=[]\n",
    "    append=nueva_lista.append\n",
    "    upper=str.upper\n",
    "    for i in oldlist:\n",
    "        append(upper(i))\n",
    "    return(nueva_lista)\n",
    "print(upper(oldlist))"
   ]
  },
  {
   "cell_type": "markdown",
   "metadata": {},
   "source": [
    "## Funciones lambda y def"
   ]
  },
  {
   "cell_type": "markdown",
   "metadata": {},
   "source": [
    "Las funciones lambda o funciones anónimas, son un tipo de función que introduce python en su estructura, en donde se usa frecuentemente en dos situaciones principales: (a) si la función es bastante simple, y (b) si solo se usará una vez. Las funciones de Lambda se pueden usar donde sea que se requieran objetos de función\n",
    "\n",
    "Python utiliza dos formas distintas de crear funciones: usando la sintáxis def y lambda. A continuación se muestran dos ejemplos de los usos de estas dos sintaxis:"
   ]
  },
  {
   "cell_type": "code",
   "execution_count": 69,
   "metadata": {},
   "outputs": [
    {
     "data": {
      "text/plain": [
       "8.0"
      ]
     },
     "execution_count": 69,
     "metadata": {},
     "output_type": "execute_result"
    }
   ],
   "source": [
    "x=64\n",
    "raiz=lambda x:np.sqrt(x)\n",
    "raiz(x)"
   ]
  },
  {
   "cell_type": "code",
   "execution_count": 70,
   "metadata": {},
   "outputs": [
    {
     "data": {
      "text/plain": [
       "4.0"
      ]
     },
     "execution_count": 70,
     "metadata": {},
     "output_type": "execute_result"
    }
   ],
   "source": [
    "def raiz(x):return(np.sqrt(x))\n",
    "raiz(16)"
   ]
  },
  {
   "cell_type": "markdown",
   "metadata": {},
   "source": [
    "Normalmente, las funciones se crean para uno de dos propósitos: (a) reducir la duplicación de código, o (b) modularizar el código.\n",
    "\n",
    "Si tienes una función que es usada una única vez, no necesitas darle un nombre a la función. Puede ser 'anónima' y además puede definirla justo en el lugar donde desea usarlo. Ahí es donde lambda es útil."
   ]
  },
  {
   "cell_type": "markdown",
   "metadata": {},
   "source": [
    "### ¿Porqué el uso de la función lambda es en ocasiones confuso?"
   ]
  },
  {
   "cell_type": "markdown",
   "metadata": {},
   "source": [
    "Primero: Lambda es confuso porque: el requisito de que una lambda pueda tomar solo una expresión plantea la pregunta: ¿Qué es una expresión?. En Python, ¿cuál es la diferencia entre una expresión y una declaración (statement)?. Una buena respuesta es que una <font color=red> expresión devuelve (o evalúa) un valor</font>, mientras que una declaración no.\n",
    "\n",
    "Una pregunta que resulta entonces, es ¿qué tipo de cosas puedo, y no puedo, poner en una función lambda? Y la respuesta a esa pregunta es básicamente\n",
    "\n",
    "Si no devuelve un valor, no es una expresión y no se puede poner en una lambda.\n",
    "Si puede imaginarlo en una declaración de asignación, en el lado derecho del signo igual, es una expresión y puede colocarse en una lambda.\n",
    "Usando estas reglas podríamos entonces llegar a las siguientes conclusiones:\n",
    "\n",
    "1. Los enunciados de asignación no se pueden usar en lambda. En Python, las declaraciones de asignación no devuelven nada, ni siquiera Ninguno (nulo)."
   ]
  },
  {
   "cell_type": "code",
   "execution_count": 71,
   "metadata": {},
   "outputs": [
    {
     "name": "stdout",
     "output_type": "stream",
     "text": [
      "[12, 0, 16, 0, 20, 0, 24, 0, 28]\n"
     ]
    }
   ],
   "source": [
    "suma=lambda lista1,lista2:lista1+lista2\n",
    "lista1=np.arange(1,10)\n",
    "lista2=np.arange(11,20)\n",
    "\n",
    "lista3=[suma(lista1[i],lista2[i])if i%2==0 else 0 for i in range(len(lista1))]\n",
    "print(lista3)"
   ]
  },
  {
   "cell_type": "code",
   "execution_count": 72,
   "metadata": {},
   "outputs": [
    {
     "name": "stdout",
     "output_type": "stream",
     "text": [
      "HOLA YO SOY JUANASO\n"
     ]
    }
   ],
   "source": [
    "oldlist='Hola yo soy juanaso'\n",
    "upper=lambda x:x.upper()\n",
    "print(upper(oldlist))"
   ]
  },
  {
   "cell_type": "code",
   "execution_count": 73,
   "metadata": {},
   "outputs": [
    {
     "name": "stdout",
     "output_type": "stream",
     "text": [
      "['Mayor a 100', 'Mayor a 100', 'Menor a 100']\n"
     ]
    }
   ],
   "source": [
    "criterio=lambda x:'Menor a 100' if x<100 else 'Mayor a 100'\n",
    "lista=[100,101,99]\n",
    "resultado=[criterio(lista[i])for i in range(len(lista))]\n",
    "print(resultado)"
   ]
  },
  {
   "cell_type": "code",
   "execution_count": 74,
   "metadata": {},
   "outputs": [
    {
     "data": {
      "text/plain": [
       "27"
      ]
     },
     "execution_count": 74,
     "metadata": {},
     "output_type": "execute_result"
    }
   ],
   "source": [
    "def incrementor(n):\n",
    "    return lambda x:x+n\n",
    "incrementar=incrementor(22)\n",
    "x=5\n",
    "c2=6\n",
    "incrementar(x)"
   ]
  },
  {
   "cell_type": "markdown",
   "metadata": {},
   "source": [
    "## Función map()"
   ]
  },
  {
   "cell_type": "markdown",
   "metadata": {},
   "source": [
    "Puedes pensar en la función map() como un for movido al código C. La única restricción es que el 'cuerpo de bucle' de la función map debe ser una llamada a función. Además del beneficio sintáctico de la compresión de listas, a menudo son tan rápidas o más rápidas que el uso equivalente del map. La sintaxis de la función es:\n",
    "\n",
    " r = map(función, secuencia)\n",
    "\n",
    "Con Python 3, map () devuelve un iterador, si queremos obtener los valores numéricos debemos usar compresión de listas o el comando list."
   ]
  },
  {
   "cell_type": "code",
   "execution_count": 75,
   "metadata": {},
   "outputs": [
    {
     "name": "stdout",
     "output_type": "stream",
     "text": [
      "[102.56, 97.7, 99.14, 100.03999999999999]\n",
      "[[102.56, 97.7, 99.14, 100.03999999999999]]\n",
      "[102.56  97.7   99.14 100.04]\n"
     ]
    }
   ],
   "source": [
    "import numpy as np\n",
    "Celsius = [39.2, 36.5, 37.3, 37.8]\n",
    "\n",
    "# Convierta las temperaturas en °C a frados fahrenheit --> eq = float(9)/5)*i + 32\n",
    "#compresion de listas\n",
    "convertir=lambda x: float(9)/5*x + 32\n",
    "F1=[convertir(Celsius[i])for i in range(len(Celsius))]\n",
    "print(F1)\n",
    "#Funcones map\n",
    "F2=[list(map(lambda x:float(9)/5*x+32,Celsius))]\n",
    "print(F2)\n",
    "#Vectorizado\n",
    "Celsius=np.array(Celsius)\n",
    "print(Celsius*float(9)/5+32)"
   ]
  },
  {
   "cell_type": "markdown",
   "metadata": {},
   "source": [
    "## Compresión de tuplas,diccionarios y conjuntos"
   ]
  },
  {
   "cell_type": "code",
   "execution_count": 76,
   "metadata": {},
   "outputs": [
    {
     "name": "stdout",
     "output_type": "stream",
     "text": [
      "{'juan': 0, 'pedro': 1, 'rodrigo': 2}\n",
      "0 1 2 3 4 5 6 7 8 9\n",
      "{0, 1, 2, 3, 4, 5, 6, 7, 8, 9}\n"
     ]
    }
   ],
   "source": [
    "diccionarios={name:i for i,name in enumerate(['juan','pedro','rodrigo'])}\n",
    "print(diccionarios)\n",
    "\n",
    "tuplas=(i for i in range(10))\n",
    "print(*tuplas)\n",
    "\n",
    "conjuntos={i for i in range(10)}\n",
    "print(conjuntos)"
   ]
  },
  {
   "cell_type": "code",
   "execution_count": 77,
   "metadata": {},
   "outputs": [],
   "source": [
    "### Ejercicios"
   ]
  },
  {
   "cell_type": "markdown",
   "metadata": {},
   "source": [
    "Imagine una rutina contable utilizada en una librería. Funciona en una lista con sublistas, que se ven así: imagen.png Escriba un programa en Python, que devuelve una lista con tuplas de tamaño 2. Cada tupla consiste en el número de pedido y el costo total del pedido. El producto debe aumentarse en 10€ si el valor de la orden es inferior a 100,00 €. Escribe un programa Python usando unicamente las funciones lambda y map.\n",
    "orders = [ [\"34587\", \"Learning Python, Mark Lutz\", 4, 40.95], \n",
    "           [\"98762\", \"Programming Python, Mark Lutz\", 5, 56.80], \n",
    "           [\"77226\", \"Head First Python, Paul Barry\", 3,32.95],\n",
    "           [\"88112\", \"Einführung in Python3, Bernd Klein\", 3, 24.99]]\n",
    "\n",
    "La misma librería, pero esta vez trabajamos en una lista diferente. Las sublistas de nuestras listas se ven así: [número de orden, (número de artículo, cantidad, precio por unidad), ... (número de artículo, cantidad, precio por unidad)]\n",
    "orders = [[1, (\"5464\", 4, 9.99), (\"8274\",18,12.99), (\"9744\", 9, 44.95)], \n",
    "           [2, (\"5464\", 9, 9.99), (\"9744\", 9, 44.95)],\n",
    "           [3, (\"5464\", 9, 9.99), (\"88112\", 11, 24.99)],\n",
    "           [4, (\"8732\", 7, 11.99), (\"7733\",11,18.99), (\"88112\", 5, 39.95)] ]\n",
    "\n",
    "Escriba un programa que devuelva una lista de dos tuplas que tengan la información de (número de pedido, cantidad total de pedido). Utilice la función Reduce. Recuerde el precio del pedido del producto debe aumentarse en 10€ si el valor de la orden es inferior a 100,00 €.\n",
    "\n",
    "Resolver los anteriores ejercicios usando pandas (DataFrame)"
   ]
  },
  {
   "cell_type": "markdown",
   "metadata": {},
   "source": [
    "## Ejercicio 1"
   ]
  },
  {
   "cell_type": "code",
   "execution_count": 78,
   "metadata": {},
   "outputs": [
    {
     "data": {
      "text/html": [
       "<div>\n",
       "<style scoped>\n",
       "    .dataframe tbody tr th:only-of-type {\n",
       "        vertical-align: middle;\n",
       "    }\n",
       "\n",
       "    .dataframe tbody tr th {\n",
       "        vertical-align: top;\n",
       "    }\n",
       "\n",
       "    .dataframe thead th {\n",
       "        text-align: right;\n",
       "    }\n",
       "</style>\n",
       "<table border=\"1\" class=\"dataframe\">\n",
       "  <thead>\n",
       "    <tr style=\"text-align: right;\">\n",
       "      <th></th>\n",
       "      <th>0</th>\n",
       "      <th>1</th>\n",
       "    </tr>\n",
       "  </thead>\n",
       "  <tbody>\n",
       "    <tr>\n",
       "      <th>0</th>\n",
       "      <td>34587</td>\n",
       "      <td>163.80</td>\n",
       "    </tr>\n",
       "    <tr>\n",
       "      <th>1</th>\n",
       "      <td>98762</td>\n",
       "      <td>284.00</td>\n",
       "    </tr>\n",
       "    <tr>\n",
       "      <th>2</th>\n",
       "      <td>77226</td>\n",
       "      <td>108.85</td>\n",
       "    </tr>\n",
       "    <tr>\n",
       "      <th>3</th>\n",
       "      <td>88112</td>\n",
       "      <td>84.97</td>\n",
       "    </tr>\n",
       "  </tbody>\n",
       "</table>\n",
       "</div>"
      ],
      "text/plain": [
       "       0       1\n",
       "0  34587  163.80\n",
       "1  98762  284.00\n",
       "2  77226  108.85\n",
       "3  88112   84.97"
      ]
     },
     "execution_count": 78,
     "metadata": {},
     "output_type": "execute_result"
    }
   ],
   "source": [
    "import numpy as np\n",
    "import pandas as pd\n",
    "orders = [ [\"34587\", \"Learning Python, Mark Lutz\", 4, 40.95], \n",
    "           [\"98762\", \"Programming Python, Mark Lutz\", 5, 56.80], \n",
    "           [\"77226\", \"Head First Python, Paul Barry\", 3,32.95],\n",
    "           [\"88112\", \"Einführung in Python3, Bernd Klein\", 3, 24.99]]\n",
    "operador=lambda x,y:x*y\n",
    "def incremento(value):\n",
    "    if value<100:\n",
    "        value+=10\n",
    "    return(value)\n",
    "precios=list(map(incremento,[operador(orders[i][2],orders[i][3])for i in np.arange(len(orders))]))\n",
    "serypre=list(map(lambda x,y:(x[0],y),orders,precios))\n",
    "pd.DataFrame(serypre)"
   ]
  },
  {
   "cell_type": "markdown",
   "metadata": {},
   "source": [
    "## Ejercicio 2"
   ]
  },
  {
   "cell_type": "code",
   "execution_count": 79,
   "metadata": {},
   "outputs": [
    {
     "data": {
      "text/html": [
       "<div>\n",
       "<style scoped>\n",
       "    .dataframe tbody tr th:only-of-type {\n",
       "        vertical-align: middle;\n",
       "    }\n",
       "\n",
       "    .dataframe tbody tr th {\n",
       "        vertical-align: top;\n",
       "    }\n",
       "\n",
       "    .dataframe thead th {\n",
       "        text-align: right;\n",
       "    }\n",
       "</style>\n",
       "<table border=\"1\" class=\"dataframe\">\n",
       "  <thead>\n",
       "    <tr style=\"text-align: right;\">\n",
       "      <th></th>\n",
       "      <th>0</th>\n",
       "      <th>1</th>\n",
       "    </tr>\n",
       "  </thead>\n",
       "  <tbody>\n",
       "    <tr>\n",
       "      <th>0</th>\n",
       "      <td>1</td>\n",
       "      <td>688.33</td>\n",
       "    </tr>\n",
       "    <tr>\n",
       "      <th>1</th>\n",
       "      <td>2</td>\n",
       "      <td>504.46</td>\n",
       "    </tr>\n",
       "    <tr>\n",
       "      <th>2</th>\n",
       "      <td>3</td>\n",
       "      <td>374.80</td>\n",
       "    </tr>\n",
       "    <tr>\n",
       "      <th>3</th>\n",
       "      <td>4</td>\n",
       "      <td>502.57</td>\n",
       "    </tr>\n",
       "  </tbody>\n",
       "</table>\n",
       "</div>"
      ],
      "text/plain": [
       "   0       1\n",
       "0  1  688.33\n",
       "1  2  504.46\n",
       "2  3  374.80\n",
       "3  4  502.57"
      ]
     },
     "execution_count": 79,
     "metadata": {},
     "output_type": "execute_result"
    }
   ],
   "source": [
    "from functools import reduce\n",
    "orders = [ [1, (\"5464\", 4, 9.99), (\"8274\",18,12.99), (\"9744\", 9, 44.95)], \n",
    "           [2, (\"5464\", 9, 9.99), (\"9744\", 9, 44.95)],\n",
    "           [3, (\"5464\", 9, 9.99), (\"88112\", 11, 24.99)],\n",
    "           [4, (\"8732\", 7, 11.99), (\"7733\",11,18.99), (\"88112\", 5, 39.95)] ]\n",
    "\n",
    "precios=list(map(lambda x:[x[0]]+list(map(lambda y:y[1]*y[2]if y[1]*y[2]>=100 else y[1]*y[2]+10,x[1:])),orders))\n",
    "numypre=list(map(lambda x:[x[0]]+[reduce(lambda a,b:a+b,x[1:])],precios))\n",
    "pd.DataFrame(numypre)"
   ]
  },
  {
   "cell_type": "markdown",
   "metadata": {},
   "source": [
    "### Ejercicio 3"
   ]
  },
  {
   "cell_type": "code",
   "execution_count": 80,
   "metadata": {},
   "outputs": [
    {
     "name": "stdout",
     "output_type": "stream",
     "text": [
      "['notion', 'lambda', 'function', 'goes', 'back', 'origin', 'computer', 'science']\n"
     ]
    }
   ],
   "source": [
    "texto='the notion of a lambda function goes all the way back to the \\\n",
    "        origin of computer science'\n",
    "lista= filter(lambda x:len(x)>=4,texto.split())\n",
    "print(list(lista))"
   ]
  },
  {
   "cell_type": "markdown",
   "metadata": {},
   "source": [
    "### Ejercicio 4"
   ]
  },
  {
   "cell_type": "code",
   "execution_count": 81,
   "metadata": {},
   "outputs": [
    {
     "name": "stdout",
     "output_type": "stream",
     "text": [
      "[ 35.97387961  99.13294268  92.6178302   99.69549478  63.21119535\n",
      "  73.90387697  95.50028838  99.21476553  36.98251238 101.45813729\n",
      " 100.5917418   89.38159435  89.52156589  83.8084752   28.37990868\n",
      "  68.75395211  45.86132067  36.58307493  56.32208365  33.96219302\n",
      "  45.29071318  74.86289938  66.51091383  88.19316186  94.26635864\n",
      "  46.83131624 109.60744472 109.68427993  44.55796499  92.84146259]\n",
      "El porcentaje de temperaturas entre 32 y 80 es:46.67 porciento\n"
     ]
    }
   ],
   "source": [
    "np.random.seed(55555)\n",
    "temperatures = np.random.uniform(25,110,30)\n",
    "print(temperatures)\n",
    "\n",
    "lista= filter(lambda x:x>=32 and x<=80,temperatures)\n",
    "print('El porcentaje de temperaturas entre 32 y 80 es:%.2f porciento' %((len(list(lista))/len(temperatures))*100))"
   ]
  },
  {
   "cell_type": "markdown",
   "metadata": {},
   "source": [
    "### Ejercicio 5"
   ]
  },
  {
   "cell_type": "markdown",
   "metadata": {},
   "source": [
    "Use reduce to find the lower left corner (minimum x and minimum y value) for a list of point locations"
   ]
  },
  {
   "cell_type": "code",
   "execution_count": 82,
   "metadata": {},
   "outputs": [
    {
     "name": "stdout",
     "output_type": "stream",
     "text": [
      "[[17 97]\n",
      " [22 33]\n",
      " [37 46]\n",
      " [57 28]\n",
      " [11 25]\n",
      " [14  2]\n",
      " [74 16]\n",
      " [12 37]\n",
      " [35 21]\n",
      " [66 65]\n",
      " [86 58]\n",
      " [67 81]\n",
      " [ 0 48]\n",
      " [28 66]\n",
      " [76 22]\n",
      " [46 47]\n",
      " [64  7]\n",
      " [88 94]\n",
      " [65 13]\n",
      " [75 89]\n",
      " [23 17]\n",
      " [36 63]\n",
      " [62 36]\n",
      " [64 17]\n",
      " [18 19]\n",
      " [88 41]\n",
      " [21 49]\n",
      " [98 36]\n",
      " [81 73]\n",
      " [62 90]]\n",
      "El mínimo valor de x es: 98\n"
     ]
    }
   ],
   "source": [
    "np.random.seed(55555)\n",
    "point_xy = np.random.randint(0,100,[30,2])\n",
    "print(point_xy)\n",
    "\n",
    "lista_x = reduce(lambda a,b:a if a>b else b, list(map(lambda x:(x[0]),point_xy)))\n",
    "print('El mínimo valor de x es:',lista_x)"
   ]
  },
  {
   "cell_type": "markdown",
   "metadata": {},
   "source": [
    "### Ejercicio 6"
   ]
  },
  {
   "cell_type": "code",
   "execution_count": 83,
   "metadata": {},
   "outputs": [
    {
     "name": "stdout",
     "output_type": "stream",
     "text": [
      "Los números divisibles por 7 son:\n",
      " [7, 14, 21, 28, 35, 42, 49, 56, 63, 70, 77, 84, 91, 98, 105, 112, 119, 126, 133, 140, 147, 154, 161, 168, 175, 182, 189, 196, 203, 210, 217, 224, 231, 238, 245, 252, 259, 266, 273, 280, 287, 294, 301, 308, 315, 322, 329, 336, 343, 350, 357, 364, 371, 378, 385, 392, 399, 406, 413, 420, 427, 434, 441, 448, 455, 462, 469, 476, 483, 490, 497, 504, 511, 518, 525, 532, 539, 546, 553, 560, 567, 574, 581, 588, 595, 602, 609, 616, 623, 630, 637, 644, 651, 658, 665, 672, 679, 686, 693, 700, 707, 714, 721, 728, 735, 742, 749, 756, 763, 770, 777, 784, 791, 798, 805, 812, 819, 826, 833, 840, 847, 854, 861, 868, 875, 882, 889, 896, 903, 910, 917, 924, 931, 938, 945, 952, 959, 966, 973, 980, 987, 994]\n"
     ]
    }
   ],
   "source": [
    "# como se llegaría al mismo resultado usando compresión de listas\n",
    "# results = [num for num in range(1000) if num % 7 == 0]\n",
    "\n",
    "# Solución utilizando la función filter\n",
    "number = np.arange(1,1001)\n",
    "div_7 = filter(lambda n:n%7==0,number)\n",
    "print('Los números divisibles por 7 son:\\n',list(div_7))"
   ]
  },
  {
   "cell_type": "markdown",
   "metadata": {},
   "source": [
    "### ejercicio 7"
   ]
  },
  {
   "cell_type": "markdown",
   "metadata": {},
   "source": [
    "Find all of the numbers from 1-1000 that have a 3 in them"
   ]
  },
  {
   "cell_type": "code",
   "execution_count": 84,
   "metadata": {},
   "outputs": [
    {
     "name": "stdout",
     "output_type": "stream",
     "text": [
      "[3, 13, 23, 30, 31, 32, 33, 34, 35, 36, 37, 38, 39, 43, 53, 63, 73, 83, 93, 103, 113, 123, 130, 131, 132, 133, 134, 135, 136, 137, 138, 139, 143, 153, 163, 173, 183, 193, 203, 213, 223, 230, 231, 232, 233, 234, 235, 236, 237, 238, 239, 243, 253, 263, 273, 283, 293, 300, 301, 302, 303, 304, 305, 306, 307, 308, 309, 310, 311, 312, 313, 314, 315, 316, 317, 318, 319, 320, 321, 322, 323, 324, 325, 326, 327, 328, 329, 330, 331, 332, 333, 334, 335, 336, 337, 338, 339, 340, 341, 342, 343, 344, 345, 346, 347, 348, 349, 350, 351, 352, 353, 354, 355, 356, 357, 358, 359, 360, 361, 362, 363, 364, 365, 366, 367, 368, 369, 370, 371, 372, 373, 374, 375, 376, 377, 378, 379, 380, 381, 382, 383, 384, 385, 386, 387, 388, 389, 390, 391, 392, 393, 394, 395, 396, 397, 398, 399, 403, 413, 423, 430, 431, 432, 433, 434, 435, 436, 437, 438, 439, 443, 453, 463, 473, 483, 493, 503, 513, 523, 530, 531, 532, 533, 534, 535, 536, 537, 538, 539, 543, 553, 563, 573, 583, 593, 603, 613, 623, 630, 631, 632, 633, 634, 635, 636, 637, 638, 639, 643, 653, 663, 673, 683, 693, 703, 713, 723, 730, 731, 732, 733, 734, 735, 736, 737, 738, 739, 743, 753, 763, 773, 783, 793, 803, 813, 823, 830, 831, 832, 833, 834, 835, 836, 837, 838, 839, 843, 853, 863, 873, 883, 893, 903, 913, 923, 930, 931, 932, 933, 934, 935, 936, 937, 938, 939, 943, 953, 963, 973, 983, 993]\n"
     ]
    }
   ],
   "source": [
    "# como se llegaría al mismo resultado usando compresión de listas\n",
    "# results = [num for num in range(1000) if '3' in list(str(num))]\n",
    "\n",
    "# Solución utilizando la función filter\n",
    "number = np.arange(1,1001)\n",
    "fil_num = filter(lambda n:'3' in str(n),number)\n",
    "print(list(fil_num))"
   ]
  },
  {
   "cell_type": "markdown",
   "metadata": {},
   "source": [
    "## Continuación de optimizaciónes de código"
   ]
  },
  {
   "cell_type": "markdown",
   "metadata": {},
   "source": [
    "### Variables locales, globales y no locales"
   ]
  },
  {
   "cell_type": "markdown",
   "metadata": {},
   "source": [
    "### Variable global"
   ]
  },
  {
   "cell_type": "code",
   "execution_count": 85,
   "metadata": {},
   "outputs": [
    {
     "name": "stdout",
     "output_type": "stream",
     "text": [
      "inside globalglobal\n",
      "outside global\n"
     ]
    }
   ],
   "source": [
    "x='global'\n",
    "\n",
    "def letra():\n",
    "    print('inside',x*2)#Modifica la variable global dentro de la funcion solamente.\n",
    "letra()\n",
    "print('outside',x)"
   ]
  },
  {
   "cell_type": "markdown",
   "metadata": {},
   "source": [
    "### Variable local"
   ]
  },
  {
   "cell_type": "code",
   "execution_count": 86,
   "metadata": {},
   "outputs": [
    {
     "name": "stdout",
     "output_type": "stream",
     "text": [
      "inside globalglobal\n"
     ]
    }
   ],
   "source": [
    "def letra():\n",
    "    print('inside',x*2)\n",
    "letra()"
   ]
  },
  {
   "cell_type": "markdown",
   "metadata": {},
   "source": [
    "### Variables no locales"
   ]
  },
  {
   "cell_type": "code",
   "execution_count": 87,
   "metadata": {},
   "outputs": [
    {
     "name": "stdout",
     "output_type": "stream",
     "text": [
      "global1\n",
      "no local\n",
      "global1\n",
      "no local\n"
     ]
    }
   ],
   "source": [
    "y = 8\n",
    "\n",
    "def outer():\n",
    "    x = 'local'\n",
    "    \n",
    "    def inner():\n",
    "        global y\n",
    "        nonlocal x\n",
    "        x = 'global1'#global modificada dentro de la funcion\n",
    "        y = 'no local'\n",
    "        print(x)\n",
    "        print(y)\n",
    "    \n",
    "    inner()\n",
    "    print(x)\n",
    "    print(y)\n",
    "\n",
    "outer()"
   ]
  },
  {
   "cell_type": "markdown",
   "metadata": {},
   "source": [
    "# Numero pseudoaleatorio"
   ]
  },
  {
   "cell_type": "markdown",
   "metadata": {},
   "source": [
    "Es un número generado en un proceso que parece producir números al azar, pero no lo hace realmente.\n",
    "Las secuencias de números pseudoaleatorios no muestran ningún patrón o regularidad aparente desde un punto de vista estadístico, a pesar de haber sido generadas por un algoritmo completamente determinista, en el que las mismas condiciones iniciales producen siempre el mismo resultado.\n",
    "Por lo general, el interés no radica en generar un solo número aleatorio, sino muchos, reunidos en lo que se conoce como secuencia aleatoria."
   ]
  },
  {
   "cell_type": "markdown",
   "metadata": {},
   "source": [
    "### Aplicaciones"
   ]
  },
  {
   "cell_type": "markdown",
   "metadata": {},
   "source": [
    "Modelado y simulación por computadora, estadística, diseño experimental. Normalmente, la entropía (aletoriedad) de los números que se generan actualmente basta para estas aplicaciones.\n",
    "Criptografía. Este campo sigue estando en constante investigación, y por tanto la generación de números aleatorios también.\n",
    "Asimismo, también destacan su uso en el llamado método de Montecarlo, con múltiples utilidades."
   ]
  },
  {
   "cell_type": "markdown",
   "metadata": {},
   "source": [
    "### Funcionamiento basico"
   ]
  },
  {
   "cell_type": "markdown",
   "metadata": {},
   "source": [
    "Elegir una semilla inicial (condición inicial) .\n",
    "Generar una sucesión de valores  mediante la relación de recurrencia .\n",
    "Generalmente, esta secuencia es de números pseudoaleatorios .\n",
    "Finalmente, se genera un número pseudoaleatorio con distribución deseada, definido a través de alguna relación .\n",
    "Estas sucesiones son periódicas. Es decir, en algún momento ocurrirá que  para algún ."
   ]
  },
  {
   "cell_type": "markdown",
   "metadata": {},
   "source": [
    "### ¿Cuándo un generador de números pseudoaleatorios es bueno?"
   ]
  },
  {
   "cell_type": "markdown",
   "metadata": {},
   "source": [
    "La sucesión de valores que proporcione deberı́a asemejarse a una sucesión de realizaciones independientes de una variable aleatoria .\n",
    "Los resultados deben ser reproducibles, en el sentido de que comenzando con la misma semilla inicial, debe ser capaz de reproducir la misma sucesión. Esto para poder probar diferentes alternativas bajo las mismas condiciones y/o poder depurar fallos en el modelo.\n",
    "La sucesión de valores generados debe tener un periodo no repetitivo tan largo como sea posible."
   ]
  },
  {
   "cell_type": "markdown",
   "metadata": {},
   "source": [
    "### Métodos congruenciales para generación de números pseudoaleatorios"
   ]
  },
  {
   "cell_type": "markdown",
   "metadata": {},
   "source": [
    "Introducidos por Lehmer en 1951.\n",
    "Son los principales generadores de números pseudoaleatorios utilizados hoy en día"
   ]
  },
  {
   "cell_type": "markdown",
   "metadata": {},
   "source": [
    "### Descripción general del método"
   ]
  },
  {
   "cell_type": "markdown",
   "metadata": {},
   "source": [
    "Comienza con un valor inicial (semilla) , y los valores subsiguientes,  para , se obtienen recursivamente con la siguiente fórmula:  \n",
    "En la fórmula de arriba  representa la operación residuo.\n",
    "\n",
    "\n",
    "Los enteros positivos ,  y  en la fórmula se denominan:\n",
    "\n",
    "\n",
    "0<m es el módulo,\n",
    "\n",
    "\n",
    "0<a<m es el multiplicador, y\n",
    "\n",
    "\n",
    "0<b<m es el incremento.\n",
    "      \n",
    "      \n",
    "La semilla debe satisfacer .0<=x0<m\n",
    "                                    \n",
    "                                    \n",
    "Si b=0 el generador se denomina multiplicativo.\n",
    "                                    \n",
    "                                    \n",
    "En caso contrario se llama mixto."
   ]
  },
  {
   "cell_type": "markdown",
   "metadata": {},
   "source": [
    "### Ejemplo"
   ]
  },
  {
   "cell_type": "code",
   "execution_count": 88,
   "metadata": {},
   "outputs": [
    {
     "name": "stdout",
     "output_type": "stream",
     "text": [
      "6\n",
      "6\n"
     ]
    }
   ],
   "source": [
    "print((5*1+1)%9)\n",
    "print((5*7+3)%16)"
   ]
  },
  {
   "cell_type": "markdown",
   "metadata": {},
   "source": [
    "De acuerdo a lo anterior, ¿cómo son los números ?, ¿representa esto algún problema?, ¿cómo se podría solucionar?\n",
    "<font color=red> Enunciar problemas con sus respectivas soluciones... </font>\n",
    "\n",
    "En efecto, un generador congruencial queda completamente determinado por los parámetros m, a, b y x0.\n",
    "\n",
    "\n",
    "Proposición. Los valores generados por un método congruencial verifican:\n"
   ]
  },
  {
   "attachments": {
    "ecuacion_recursiva.png": {
     "image/png": "[encoded data removed]"
    }
   },
   "cell_type": "markdown",
   "metadata": {},
   "source": [
    "![ecuacion_recursiva.png](attachment:ecuacion_recursiva.png)"
   ]
  },
  {
   "cell_type": "markdown",
   "metadata": {},
   "source": [
    "### Ejemplo de modelo ineficiente  por no considerar los criterios de pseudoaleatoriedad"
   ]
  },
  {
   "cell_type": "code",
   "execution_count": 91,
   "metadata": {},
   "outputs": [
    {
     "data": {
      "text/plain": [
       "array([0.11111111, 0.77777778, 0.11111111, 0.77777778, 0.11111111,\n",
       "       0.77777778, 0.11111111, 0.77777778, 0.11111111, 0.77777778])"
      ]
     },
     "execution_count": 91,
     "metadata": {},
     "output_type": "execute_result"
    }
   ],
   "source": [
    "def congruencial_vector(a:'multiplicador',b:'incremento',m:'módulo',x0:'CI',N:'cantidad de términos'):\n",
    "    '''\n",
    "    Esta es la programación del método congruencial\n",
    "    Parámetros\n",
    "    ----------\n",
    "    a: multiplicador\n",
    "    b:'incremento'\n",
    "    m:'módulo'\n",
    "    x0:'CI'\n",
    "    N:'cantidad de términos'\n",
    "    '''\n",
    "    n = np.arange(N)\n",
    "    return ((a**n * x0 + (b * ((a**n-1) / (a-1)))) % m) / m\n",
    "\n",
    "a, b, m, x0, N = 2, 5, 9, 1, 10\n",
    "\n",
    "cong1 = congruencial_vector(a,b,m,x0,N)\n",
    "cong1"
   ]
  },
  {
   "cell_type": "markdown",
   "metadata": {},
   "source": [
    "### Programemos este método"
   ]
  },
  {
   "cell_type": "markdown",
   "metadata": {},
   "source": [
    "De acuerdo a lo descrito arriba, quisiéramos programar una función que reciba:\n",
    "la semilla x0,\n",
    "\n",
    "\n",
    "el multiplicador b ,\n",
    "\n",
    "\n",
    "el incremento a,\n",
    "\n",
    "\n",
    "el módulo m , y\n",
    "\n",
    "\n",
    "la cantidad de elementos de la secuencia pseudoaleatoria requeridos n,\n",
    "\n",
    "\n",
    "y que retorne la secuencia pseudoaleatoria de longitud n."
   ]
  },
  {
   "cell_type": "code",
   "execution_count": 94,
   "metadata": {},
   "outputs": [],
   "source": [
    "#### Importar la librería numpy... útil para el manejo de datos n-dimensionales (vectores)\n",
    "import numpy as np"
   ]
  },
  {
   "cell_type": "code",
   "execution_count": 95,
   "metadata": {},
   "outputs": [
    {
     "data": {
      "text/plain": [
       "array([2, 4, 8], dtype=int32)"
      ]
     },
     "execution_count": 95,
     "metadata": {},
     "output_type": "execute_result"
    }
   ],
   "source": [
    "# Elevar una constante a un vector\n",
    "b=np.array([1, 2, 3])\n",
    "2**b"
   ]
  },
  {
   "cell_type": "code",
   "execution_count": 96,
   "metadata": {},
   "outputs": [],
   "source": [
    "#### Escribir la función acá\n",
    "def cong_method_for(x0:\"Semilla inicial\",a:\"Multiplicador\",b:\"Incremento\", m:\"Módulo\",\n",
    "                 n:\"Número de elementos\"):\n",
    "    '''\n",
    "    Esta función contiene la programación del método congruencial para la sucesión x_n = (ax_{n−1} + b) mod m\n",
    "    '''\n",
    "    x = [x0]\n",
    "    for i in range(1,n):\n",
    "        x.append((a * x[-1] + b) % m)\n",
    "    return np.array(x)/m"
   ]
  },
  {
   "cell_type": "code",
   "execution_count": 97,
   "metadata": {},
   "outputs": [],
   "source": [
    "#### Escribir la función sin ciclo for tradicional\n",
    "def cong_method1(x0:\"Semilla inicial\",a:\"Multiplicador\",b:\"Incremento\", m:\"Módulo\",\n",
    "                 n:\"Número de elementos\"):\n",
    "    '''\n",
    "    Esta función contiene la programación del método congruencial para la sucesión x_n = (ax_{n−1} + b) mod m\n",
    "    sin utilizar ciclo for convencional     \n",
    "    '''\n",
    "    x = np.zeros(n)\n",
    "    x[0] = x0\n",
    "    def llenar_vector(i):\n",
    "        nonlocal x\n",
    "        x[i+1] = (a * x[i] + b) % m\n",
    "    [llenar_vector(i) for i in range(n-1)]\n",
    "    return x/m"
   ]
  },
  {
   "cell_type": "code",
   "execution_count": 109,
   "metadata": {},
   "outputs": [],
   "source": [
    "#### Escribir la función acá\n",
    "def cong_method2(x0, a, b, m, n):\n",
    "    N = np.arange(n) \n",
    "    return ((a**N * x0 + b * ((a**N-1)/(a-1))) % m)/m"
   ]
  },
  {
   "cell_type": "markdown",
   "metadata": {},
   "source": [
    "Entonces vemos que la calidad de nuestro generador congruencial depende fuertemente de la elección de los parámetros, pues quisiéramos que los periodos sean lo más grandes posible ().\n",
    "\n",
    "\n",
    "Cuando el periodo de un generador congruencial coincide con el módulo , lo llamaremos generador de ciclo completo. El periodo de este tipo de generadores es independiente de la semilla que utilicemos.\n",
    "El siguiente Teorema nos da condiciones para crear generadores de ciclo completo:\n",
    "\n",
    "\n",
    "Teorema. Un generador congruencial tiene periodo completo si y sólo si se cumplen las siguientes condiciones:\n",
    "\n",
    "\n",
    "m y b son primos entre sı́.\n",
    "\n",
    "\n",
    "Si q es un número primo que divide a , entonces  divide a .\n",
    "\n",
    "\n",
    "Si q divide a m, entonces 4 divide a .\n",
    "\n",
    "\n",
    "Ejercicio\n",
    "\n",
    "\n",
    "Comprobar el teorema en el conjunto de parámetros 2."
   ]
  },
  {
   "cell_type": "markdown",
   "metadata": {},
   "source": [
    "###  Comentarios adicionales sobre el generador congruencial"
   ]
  },
  {
   "cell_type": "markdown",
   "metadata": {},
   "source": [
    "Hasta ahora solo nos basamos en aspectos teóricos para ver si un generador es bueno. También hay aspectos computacionales...\n",
    "\n",
    "\n",
    "En ese sentido los generadores multiplicativos son más eficientes que los mixtos porque se ahorran la operación de suma. Sin embargo, por el Teorema <font color=red>¿qué pasa con los generadores multiplicativos?</font>\n",
    "\n",
    "\n",
    "De igual forma, una elección computacionalmente adecuada es  (se elige m grande para tener periodos grandes). Con esta elección, y , el generador tendrá periodo completo si y sólo si  es impar y .\n",
    "\n",
    "\n",
    "Si se combina lo anterior (generador multiplicativo con ), obtenemos que el periodo máximo que se puede obtener es una cuarta parte de ,  y se alcanza únicamente para  impar y,  o .\n",
    "\n",
    "\n",
    "Un generador multiplicativo muy utilizado, conocido como RANDU, tomaba  y . Sin embargo, se ha demostrado que tiene propiedades estadı́sticas bastante malas.\n",
    "Los generadores multiplicativos más famosos utilizados por IBM tomaban  y  o .\n",
    "\n",
    "\n",
    "Pueden encontrar más información en este enlace.\n",
    "\n",
    "\n",
    "Se pueden hacer combinaciones de generadores y otros generadores más complicados..."
   ]
  },
  {
   "cell_type": "markdown",
   "metadata": {},
   "source": [
    "### Ejemplo"
   ]
  },
  {
   "cell_type": "markdown",
   "metadata": {},
   "source": [
    "Tomar los parámetros m=2**31 , a=1103515245 y b=12345 , y generar una secuencia pseudoaleatoria uniforme estándar de  elementos.\n",
    "\n",
    "\n",
    "Luego, dibujar el histograma (diagrama de frecuencias). ¿Corresponde lo obtenido con lo que se imaginaban?"
   ]
  },
  {
   "cell_type": "code",
   "execution_count": 110,
   "metadata": {},
   "outputs": [],
   "source": [
    "import time\n",
    "import numpy as np\n",
    "import matplotlib.pyplot as plt"
   ]
  },
  {
   "cell_type": "code",
   "execution_count": 111,
   "metadata": {},
   "outputs": [
    {
     "name": "stdout",
     "output_type": "stream",
     "text": [
      "Tiempo de cálculo: 0.40775251388549805\n"
     ]
    }
   ],
   "source": [
    "# Tiempo de cálculo usando el método congruencial \"FOR\" convencional\n",
    "t1=time.time()\n",
    "x = cong_method_for(3, 1103515245, 12345, 2**31-1, 10**6)\n",
    "print('Tiempo de cálculo:',time.time()-t1)"
   ]
  },
  {
   "cell_type": "code",
   "execution_count": 112,
   "metadata": {},
   "outputs": [
    {
     "name": "stdout",
     "output_type": "stream",
     "text": [
      "Tiempo de cálculo: 0.11077737808227539\n"
     ]
    }
   ],
   "source": [
    "# Tiempo de cálculo usando el método congruencial \"FUNCIONES\" convencional\n",
    "t1=time.time()\n",
    "x = cong_method2(3, 1103515245, 12345, 2**31-1, 10**6)\n",
    "print('Tiempo de cálculo:',time.time()-t1)"
   ]
  },
  {
   "cell_type": "code",
   "execution_count": 113,
   "metadata": {},
   "outputs": [
    {
     "data": {
      "image/png": "[encoded data removed]",
      "text/plain": [
       "<Figure size 432x288 with 1 Axes>"
      ]
     },
     "metadata": {
      "needs_background": "light"
     },
     "output_type": "display_data"
    }
   ],
   "source": [
    "plt.hist(x,50,density=True)\n",
    "plt.xlabel('valores aleatorios')\n",
    "plt.ylabel('probabilidad')\n",
    "plt.title('histograma')\n",
    "plt.show()"
   ]
  },
  {
   "cell_type": "code",
   "execution_count": 114,
   "metadata": {},
   "outputs": [
    {
     "data": {
      "text/plain": [
       "0.23340981595050225"
      ]
     },
     "execution_count": 114,
     "metadata": {},
     "output_type": "execute_result"
    }
   ],
   "source": [
    "np.random.seed(10203)\n",
    "np.random.rand()"
   ]
  },
  {
   "cell_type": "code",
   "execution_count": 115,
   "metadata": {},
   "outputs": [],
   "source": [
    "#### mover la secuencia aleatoria de 7 a 10\n",
    "a, b = 7, 10\n",
    "xab = (b-a)*x+a"
   ]
  },
  {
   "cell_type": "code",
   "execution_count": 116,
   "metadata": {},
   "outputs": [
    {
     "data": {
      "image/png": "[encoded data removed]",
      "text/plain": [
       "<Figure size 432x288 with 1 Axes>"
      ]
     },
     "metadata": {
      "needs_background": "light"
     },
     "output_type": "display_data"
    }
   ],
   "source": [
    "plt.hist(xab,100,density=True)\n",
    "plt.xlabel('valores aleatorios')\n",
    "plt.ylabel('probabilidad')\n",
    "plt.title('histograma')\n",
    "plt.show()"
   ]
  },
  {
   "cell_type": "code",
   "execution_count": 121,
   "metadata": {},
   "outputs": [],
   "source": [
    "#### Resolver acá\n",
    "import time\n",
    "def randuni(n):\n",
    "    return cong_method2(round(time.time()*10**7), 1103515245, 12345, 2**31-1, n+1)[1:]"
   ]
  },
  {
   "cell_type": "markdown",
   "metadata": {},
   "source": [
    "# Método Box–Muller para generación de números pseudoaleatorios n(0,1)"
   ]
  },
  {
   "attachments": {
    "box_muller_cos.png": {
     "image/png": "[encoded data removed]"
    },
    "box_muller_sen.png": {
     "image/png": "[encoded data removed]"
    }
   },
   "cell_type": "markdown",
   "metadata": {},
   "source": [
    "Teniendo dos secuencias de números pseudoaleatorios independientes e uniformemente distribuidos en el intervalo  () es posible generar dos secuencias de números pseudoaleatorios independientes y normalmente distribuidos con media cero y varianza unitaria ().\n",
    "Este método se conoce como el método Box–Muller.\n",
    "\n",
    "\n",
    "Supongamos que  y  son variables aleatorias independientes que están uniformemente distribuidas en el intervalo . Sean entonces:\n",
    "    \n",
    "\n",
    "![box_muller_cos.png](attachment:box_muller_cos.png)\n",
    "\n",
    "y\n",
    "\n",
    "![box_muller_sen.png](attachment:box_muller_sen.png)\n",
    "\n",
    "Entonces,  y  son variables aleatorias independientes con una distribución normal estándar ().\n",
    "\n",
    "\n",
    "La derivación de esto se basa en la transformación del sistema cartesiano al sistema polar.\n",
    "<font color=blue> Mostrar intuitivamente en el tablero link. </font>\n",
    "\n",
    "\n",
    "Ejemplo\n",
    "\n",
    "\n",
    "Escribir una función que devuelva secuencias de números aleatorios ."
   ]
  },
  {
   "cell_type": "code",
   "execution_count": 122,
   "metadata": {},
   "outputs": [],
   "source": [
    "#### Resolver acá\n",
    "def randnorm(n):\n",
    "    u1,u2 = randuni(n), randuni(n)\n",
    "    theta = 2*np.pi*u2\n",
    "    x = np.sqrt(-2*np.log(u1))*np.cos(theta)\n",
    "    y = np.sqrt(-2*np.log(u1))*np.sin(theta)\n",
    "    return x,y"
   ]
  },
  {
   "cell_type": "markdown",
   "metadata": {},
   "source": [
    "Ejemplo\n",
    "\n",
    "\n",
    "Generar una secuencia pseudoaleatoria normal estándar de  elementos.\n",
    "\n",
    "\n",
    "Luego, dibujar el histograma (diagrama de frecuencias). ¿Corresponde lo obtenido con lo que se imaginaban?"
   ]
  },
  {
   "cell_type": "code",
   "execution_count": 123,
   "metadata": {},
   "outputs": [
    {
     "data": {
      "image/png": "[encoded data removed]",
      "text/plain": [
       "<Figure size 432x288 with 1 Axes>"
      ]
     },
     "metadata": {
      "needs_background": "light"
     },
     "output_type": "display_data"
    }
   ],
   "source": [
    "#### Resolver acá\n",
    "x,y = randnorm(10**5)\n",
    "plt.hist(y,50,density=False)\n",
    "plt.xlabel('valores aleatorios')\n",
    "plt.ylabel('probabilidad')\n",
    "plt.title('histograma')\n",
    "plt.show()"
   ]
  },
  {
   "cell_type": "code",
   "execution_count": 124,
   "metadata": {},
   "outputs": [
    {
     "data": {
      "image/png": "[encoded data removed]",
      "text/plain": [
       "<Figure size 432x288 with 1 Axes>"
      ]
     },
     "metadata": {
      "needs_background": "light"
     },
     "output_type": "display_data"
    }
   ],
   "source": [
    "plt.hist(x,50,density=False)\n",
    "plt.xlabel('valores aleatorios')\n",
    "plt.ylabel('probabilidad')\n",
    "plt.title('histograma')\n",
    "plt.show()"
   ]
  },
  {
   "cell_type": "markdown",
   "metadata": {},
   "source": [
    "Ejemplo\n",
    "¿Cómo hacer para obtener secuencias pseudoaleatorias en n(m,s)?\n",
    "Realizar un código para esto. Hacer una prueba y dibujar el histograma para contrastar."
   ]
  },
  {
   "cell_type": "code",
   "execution_count": 126,
   "metadata": {},
   "outputs": [],
   "source": [
    "#### Resolver acá\n",
    "mu = 5\n",
    "sigma =3\n",
    "X = sigma*y+mu"
   ]
  },
  {
   "cell_type": "code",
   "execution_count": 127,
   "metadata": {},
   "outputs": [
    {
     "data": {
      "image/png": "[encoded data removed]",
      "text/plain": [
       "<Figure size 432x288 with 1 Axes>"
      ]
     },
     "metadata": {
      "needs_background": "light"
     },
     "output_type": "display_data"
    }
   ],
   "source": [
    "plt.hist(X,200,density=True)\n",
    "plt.xlabel('valores aleatorios')\n",
    "plt.ylabel('frecuencia')\n",
    "plt.title('histograma')\n",
    "plt.show()"
   ]
  },
  {
   "cell_type": "code",
   "execution_count": 128,
   "metadata": {},
   "outputs": [
    {
     "data": {
      "image/png": "[encoded data removed]",
      "text/plain": [
       "<Figure size 432x288 with 1 Axes>"
      ]
     },
     "metadata": {
      "needs_background": "light"
     },
     "output_type": "display_data"
    }
   ],
   "source": [
    "x=np.random.uniform(10,20,10**6)\n",
    "plt.hist(x,100,density=True)\n",
    "plt.xlabel('valores aleatorios')\n",
    "plt.ylabel('frecuencia')\n",
    "plt.title('histograma')\n",
    "plt.show()"
   ]
  },
  {
   "cell_type": "code",
   "execution_count": 129,
   "metadata": {},
   "outputs": [
    {
     "data": {
      "image/png": "[encoded data removed]",
      "text/plain": [
       "<Figure size 432x288 with 1 Axes>"
      ]
     },
     "metadata": {
      "needs_background": "light"
     },
     "output_type": "display_data"
    }
   ],
   "source": [
    "x = np.random.normal(5,3,10**6)\n",
    "plt.hist(x,100,density=True)\n",
    "plt.xlabel('valores aleatorios')\n",
    "plt.ylabel('frecuencia')\n",
    "plt.title('histograma')\n",
    "plt.show()"
   ]
  },
  {
   "cell_type": "code",
   "execution_count": null,
   "metadata": {},
   "outputs": [],
   "source": []
  },
  {
   "cell_type": "code",
   "execution_count": 176,
   "metadata": {},
   "outputs": [
    {
     "name": "stdout",
     "output_type": "stream",
     "text": [
      "Counter({' ': 19})\n"
     ]
    }
   ],
   "source": [
    "from collections import Counter\n",
    "resultado= [i for i in frase if i == ' ']\n",
    "print(Counter(resultado))"
   ]
  },
  {
   "cell_type": "markdown",
   "metadata": {},
   "source": [
    "Usando compresión de listas o funciones map(sino recuerda como funciona observar el siguiente enlace https://www.pythonforbeginners.com/lists/list-comprehensions-in-python/), resolver los siguientes ejercicios:"
   ]
  },
  {
   "cell_type": "markdown",
   "metadata": {},
   "source": [
    "## Tarea 3"
   ]
  },
  {
   "cell_type": "markdown",
   "metadata": {},
   "source": [
    "### Ejercicio 1"
   ]
  },
  {
   "attachments": {
    "d1.png": {
     "image/png": "[encoded data removed]"
    },
    "d2.png": {
     "image/png": "[encoded data removed]"
    },
    "tarea_3.png": {
     "image/png": "[encoded data removed]"
    }
   },
   "cell_type": "markdown",
   "metadata": {},
   "source": [
    "Resolver la siguiente ecuación recursiva usando funciones como se vió en clase  con \n",
    "\n",
    "![tarea_3.png](attachment:tarea_3.png)\n",
    "\n",
    " \n",
    "![d1.png](attachment:d1.png)  ![d2.png](attachment:d2.png)"
   ]
  },
  {
   "cell_type": "code",
   "execution_count": null,
   "metadata": {},
   "outputs": [],
   "source": []
  },
  {
   "cell_type": "markdown",
   "metadata": {},
   "source": [
    "### Ejercicio 2"
   ]
  },
  {
   "cell_type": "markdown",
   "metadata": {},
   "source": [
    "Count the number of spaces in the following string variable =  relaciónn  requiere,  para obtener  el  valor  de un  cierto  término,  el conocimiento de los dos anteriores."
   ]
  },
  {
   "cell_type": "code",
   "execution_count": 177,
   "metadata": {},
   "outputs": [
    {
     "name": "stdout",
     "output_type": "stream",
     "text": [
      "Counter({' ': 19})\n"
     ]
    }
   ],
   "source": [
    "from collections import Counter\n",
    "resultado= [i for i in frase if i == ' ']\n",
    "print(Counter(resultado))"
   ]
  },
  {
   "cell_type": "markdown",
   "metadata": {},
   "source": [
    "### Ejercicio 3"
   ]
  },
  {
   "cell_type": "markdown",
   "metadata": {},
   "source": [
    "Remove all of the vowels in a string [make a list of the non-vowels]."
   ]
  },
  {
   "cell_type": "code",
   "execution_count": 178,
   "metadata": {},
   "outputs": [
    {
     "name": "stdout",
     "output_type": "stream",
     "text": [
      "['H', 'b', ' ', 'n', ' ', 'v', 'z', ' ', 'n', ' ', 'h', 'r', 'm', 't', 'ñ', ' ', 'q', ' ', 'q', 'r', ' ', 'm', 'r', 'r', ',', 'b', 's', 'c', ' ', 'l', ' ', 'm', 'n', 'r', ' ', 'd', ' ', 'h', 'c', 'r', 'l', ' ', 'p', 'r', ' ', 'f', 'r', 'c', 's', ',', 'd', 's', 'p', 's', ' ', 'l', ' ', 'v', 'l', 'v', ' ', ' ', 'n', 't', 'n', 't', 'r', ' ', 'y', ' ', 'm', 'r']\n"
     ]
    }
   ],
   "source": [
    "frase = 'Habia una vez un hermitaño que queria morir,busco la manera de hacerlo pero fracasó,despues lo volvio a intentar y murió'\n",
    "vocales = ['a','e','i','o','u','ó']\n",
    "\n",
    "resultado=[i for i in frase if i.lower() not in vocales]\n",
    "print(resultado)"
   ]
  },
  {
   "cell_type": "markdown",
   "metadata": {},
   "source": [
    "### Ejercicio 4"
   ]
  },
  {
   "cell_type": "markdown",
   "metadata": {},
   "source": [
    "Find all of the words in a string that are less than 4 letters."
   ]
  },
  {
   "cell_type": "code",
   "execution_count": 179,
   "metadata": {},
   "outputs": [
    {
     "name": "stdout",
     "output_type": "stream",
     "text": [
      "['una', 'vez', 'un', 'que', 'la', 'de', 'pero', 'lo', 'a', 'y']\n"
     ]
    }
   ],
   "source": [
    "from functools import reduce\n",
    "frase='Habia una vez un hermitaño que queria morir,busco la manera de hacerlo pero fracasó,despues lo volvio a intentar y murió'\n",
    "\n",
    "f1=lambda x:len(x)<=4\n",
    "filtro=filter(f1,frase.split())\n",
    "print(list(filtro))"
   ]
  },
  {
   "cell_type": "markdown",
   "metadata": {},
   "source": [
    "### Ejercicio 5"
   ]
  },
  {
   "cell_type": "markdown",
   "metadata": {},
   "source": [
    "Use a dictionary comprehension to count the length of each word in a sentence."
   ]
  },
  {
   "cell_type": "code",
   "execution_count": 163,
   "metadata": {},
   "outputs": [
    {
     "name": "stdout",
     "output_type": "stream",
     "text": [
      "{'Habia': 5, 'una': 3, 'vez': 3, 'un': 2, 'hermitaño': 9, 'que': 3, 'queria': 6, 'morir,busco': 11, 'la': 2, 'manera': 6, 'de': 2, 'hacerlo': 7, 'pero': 4, 'fracasó,despues': 15, 'lo': 2, 'volvio': 6, 'a': 1, 'intentar': 8, 'y': 1, 'murió': 5}\n"
     ]
    }
   ],
   "source": [
    "frase = 'Habia una vez un hermitaño que queria morir,busco la manera de hacerlo pero fracasó,despues lo volvio a intentar y murió'\n",
    "vocales = ['a','e','i','o','u','ó']\n",
    "\n",
    "resultado={i:len(i) for i in frase.split()}\n",
    "print(resultado)"
   ]
  },
  {
   "cell_type": "markdown",
   "metadata": {},
   "source": [
    "### Ejercicio 6"
   ]
  },
  {
   "cell_type": "markdown",
   "metadata": {},
   "source": [
    "Use a nested list comprehension to find all of the numbers from 1-1000 that are divisible by any single digit besides 1 (2-9)."
   ]
  },
  {
   "cell_type": "code",
   "execution_count": 170,
   "metadata": {},
   "outputs": [
    {
     "name": "stdout",
     "output_type": "stream",
     "text": [
      "[2, 3, 4, 5, 6, 7, 8, 9, 10, 12, 14, 15, 16, 18, 20, 21, 22, 24, 25, 26, 27, 28, 30, 32, 33, 34, 35, 36, 38, 39, 40, 42, 44, 45, 46, 48, 49, 50, 51, 52, 54, 55, 56, 57, 58, 60, 62, 63, 64, 65, 66, 68, 69, 70, 72, 74, 75, 76, 77, 78, 80, 81, 82, 84, 85, 86, 87, 88, 90, 91, 92, 93, 94, 95, 96, 98, 99, 100, 102, 104, 105, 106, 108, 110, 111, 112, 114, 115, 116, 117, 118, 119, 120, 122, 123, 124, 125, 126, 128, 129, 130, 132, 133, 134, 135, 136, 138, 140, 141, 142, 144, 145, 146, 147, 148, 150, 152, 153, 154, 155, 156, 158, 159, 160, 161, 162, 164, 165, 166, 168, 170, 171, 172, 174, 175, 176, 177, 178, 180, 182, 183, 184, 185, 186, 188, 189, 190, 192, 194, 195, 196, 198, 200, 201, 202, 203, 204, 205, 206, 207, 208, 210, 212, 213, 214, 215, 216, 217, 218, 219, 220, 222, 224, 225, 226, 228, 230, 231, 232, 234, 235, 236, 237, 238, 240, 242, 243, 244, 245, 246, 248, 249, 250, 252, 254, 255, 256, 258, 259, 260, 261, 262, 264, 265, 266, 267, 268, 270, 272, 273, 274, 275, 276, 278, 279, 280, 282, 284, 285, 286, 287, 288, 290, 291, 292, 294, 295, 296, 297, 298, 300, 301, 302, 303, 304, 305, 306, 308, 309, 310, 312, 314, 315, 316, 318, 320, 321, 322, 324, 325, 326, 327, 328, 329, 330, 332, 333, 334, 335, 336, 338, 339, 340, 342, 343, 344, 345, 346, 348, 350, 351, 352, 354, 355, 356, 357, 358, 360, 362, 363, 364, 365, 366, 368, 369, 370, 371, 372, 374, 375, 376, 378, 380, 381, 382, 384, 385, 386, 387, 388, 390, 392, 393, 394, 395, 396, 398, 399, 400, 402, 404, 405, 406, 408, 410, 411, 412, 413, 414, 415, 416, 417, 418, 420, 422, 423, 424, 425, 426, 427, 428, 429, 430, 432, 434, 435, 436, 438, 440, 441, 442, 444, 445, 446, 447, 448, 450, 452, 453, 454, 455, 456, 458, 459, 460, 462, 464, 465, 466, 468, 469, 470, 471, 472, 474, 475, 476, 477, 478, 480, 482, 483, 484, 485, 486, 488, 489, 490, 492, 494, 495, 496, 497, 498, 500, 501, 502, 504, 505, 506, 507, 508, 510, 511, 512, 513, 514, 515, 516, 518, 519, 520, 522, 524, 525, 526, 528, 530, 531, 532, 534, 535, 536, 537, 538, 539, 540, 542, 543, 544, 545, 546, 548, 549, 550, 552, 553, 554, 555, 556, 558, 560, 561, 562, 564, 565, 566, 567, 568, 570, 572, 573, 574, 575, 576, 578, 579, 580, 581, 582, 584, 585, 586, 588, 590, 591, 592, 594, 595, 596, 597, 598, 600, 602, 603, 604, 605, 606, 608, 609, 610, 612, 614, 615, 616, 618, 620, 621, 622, 623, 624, 625, 626, 627, 628, 630, 632, 633, 634, 635, 636, 637, 638, 639, 640, 642, 644, 645, 646, 648, 650, 651, 652, 654, 655, 656, 657, 658, 660, 662, 663, 664, 665, 666, 668, 669, 670, 672, 674, 675, 676, 678, 679, 680, 681, 682, 684, 685, 686, 687, 688, 690, 692, 693, 694, 695, 696, 698, 699, 700, 702, 704, 705, 706, 707, 708, 710, 711, 712, 714, 715, 716, 717, 718, 720, 721, 722, 723, 724, 725, 726, 728, 729, 730, 732, 734, 735, 736, 738, 740, 741, 742, 744, 745, 746, 747, 748, 749, 750, 752, 753, 754, 755, 756, 758, 759, 760, 762, 763, 764, 765, 766, 768, 770, 771, 772, 774, 775, 776, 777, 778, 780, 782, 783, 784, 785, 786, 788, 789, 790, 791, 792, 794, 795, 796, 798, 800, 801, 802, 804, 805, 806, 807, 808, 810, 812, 813, 814, 815, 816, 818, 819, 820, 822, 824, 825, 826, 828, 830, 831, 832, 833, 834, 835, 836, 837, 838, 840, 842, 843, 844, 845, 846, 847, 848, 849, 850, 852, 854, 855, 856, 858, 860, 861, 862, 864, 865, 866, 867, 868, 870, 872, 873, 874, 875, 876, 878, 879, 880, 882, 884, 885, 886, 888, 889, 890, 891, 892, 894, 895, 896, 897, 898, 900, 902, 903, 904, 905, 906, 908, 909, 910, 912, 914, 915, 916, 917, 918, 920, 921, 922, 924, 925, 926, 927, 928, 930, 931, 932, 933, 934, 935, 936, 938, 939, 940, 942, 944, 945, 946, 948, 950, 951, 952, 954, 955, 956, 957, 958, 959, 960, 962, 963, 964, 965, 966, 968, 969, 970, 972, 973, 974, 975, 976, 978, 980, 981, 982, 984, 985, 986, 987, 988, 990, 992, 993, 994, 995, 996, 998, 999, 1000]\n"
     ]
    }
   ],
   "source": [
    "divisible = [num for num in range(1,1001) if [div for div in range(2,9) if num % div == 0]]\n",
    "print(divisible)"
   ]
  },
  {
   "cell_type": "code",
   "execution_count": null,
   "metadata": {},
   "outputs": [],
   "source": []
  }
 ],
 "metadata": {
  "kernelspec": {
   "display_name": "Python 3",
   "language": "python",
   "name": "python3"
  }
 },
 "nbformat": 4,
 "nbformat_minor": 4
}
